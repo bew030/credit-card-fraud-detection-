{
 "cells": [
  {
   "cell_type": "markdown",
   "metadata": {},
   "source": [
    "# Detecting Credit Card Fraud"
   ]
  },
  {
   "cell_type": "markdown",
   "metadata": {},
   "source": [
    "# INTRODUCTION (text)"
   ]
  },
  {
   "cell_type": "markdown",
   "metadata": {},
   "source": [
    "# UNDERSTANDING AND EXPLAINING MACHINE LEARNING ALGORITHMS (text)"
   ]
  },
  {
   "cell_type": "markdown",
   "metadata": {},
   "source": [
    "# UNDERSTANDING,CLEANING, and VISUALIZING THE DATA (text and code)"
   ]
  },
  {
   "cell_type": "code",
   "execution_count": 2,
   "metadata": {},
   "outputs": [],
   "source": [
    "#importing packages\n",
    "import pandas as pd\n",
    "import seaborn as sns\n",
    "import matplotlib.pyplot as plt\n",
    "import numpy as np \n",
    "%matplotlib inline"
   ]
  },
  {
   "cell_type": "code",
   "execution_count": 3,
   "metadata": {},
   "outputs": [],
   "source": [
    "# reading in files \n",
    "df = pd.read_csv('datasets/bs140513_032310.csv')"
   ]
  },
  {
   "cell_type": "markdown",
   "metadata": {},
   "source": [
    "### Cleaning the Data"
   ]
  },
  {
   "cell_type": "code",
   "execution_count": 4,
   "metadata": {},
   "outputs": [],
   "source": [
    "# method that removes quotations \n",
    "def remove_quotations(x):\n",
    "    return x.strip(\"''\")\n",
    "\n",
    "# method that replaces age null value w/ -1 \n",
    "def age_null(x):\n",
    "    if x == 'U':\n",
    "        return -1 \n",
    "    return x \n",
    "\n",
    "# method that encodes gender into a number \n",
    "def gender_switch(x):\n",
    "    if x == 'M':\n",
    "        return 0\n",
    "    if x == 'F':\n",
    "        return 1\n",
    "    if x == 'E':\n",
    "        return 2\n",
    "    else: \n",
    "        return -1\n",
    "\n",
    "# method that cleans dataframe and returns cleaned version \n",
    "def clean_transaction(df):\n",
    "    transaction_dataset = df.copy()\n",
    "    transaction_dataset['customer'] = transaction_dataset['customer'].apply(remove_quotations) # remove quotation \n",
    "    transaction_dataset['age'] = transaction_dataset['age'].apply(remove_quotations).apply(age_null) # remove quotations and replaces null\n",
    "    transaction_dataset['gender'] = transaction_dataset['gender'].apply(remove_quotations).apply(gender_switch) # remove quotation and encode gender\n",
    "    transaction_dataset['zipcodeOri'] = transaction_dataset['zipcodeOri'].apply(remove_quotations).astype(int) # remove quotations \n",
    "    transaction_dataset['merchant'] = transaction_dataset['merchant'].apply(remove_quotations)\n",
    "    transaction_dataset['zipMerchant'] = transaction_dataset['zipMerchant'].apply(remove_quotations).astype(int)\n",
    "    transaction_dataset['category'] = transaction_dataset['category'].apply(remove_quotations)\n",
    "    # transaction_dataset['category'] = transaction_dataset['category'].apply(encoder_categories)\n",
    "    return transaction_dataset"
   ]
  },
  {
   "cell_type": "code",
   "execution_count": 5,
   "metadata": {},
   "outputs": [],
   "source": [
    "clean_transaction = clean_transaction(df)"
   ]
  },
  {
   "cell_type": "code",
   "execution_count": 6,
   "metadata": {},
   "outputs": [],
   "source": [
    "different_categories = clean_transaction['category'].unique().tolist()\n",
    "category_dictionary = {} \n",
    "iterator = 0 \n",
    "for i in different_categories:\n",
    "    category_dictionary[i] = iterator\n",
    "    iterator += 1  \n",
    "\n",
    "# method that encodes the transaction categories into numbers \n",
    "def encoder_categories(x):\n",
    "    return category_dictionary[x]"
   ]
  },
  {
   "cell_type": "code",
   "execution_count": 7,
   "metadata": {},
   "outputs": [],
   "source": [
    "clean_transaction['category'] = clean_transaction['category'].apply(encoder_categories)"
   ]
  },
  {
   "cell_type": "code",
   "execution_count": 8,
   "metadata": {},
   "outputs": [
    {
     "data": {
      "text/html": [
       "<div>\n",
       "<style scoped>\n",
       "    .dataframe tbody tr th:only-of-type {\n",
       "        vertical-align: middle;\n",
       "    }\n",
       "\n",
       "    .dataframe tbody tr th {\n",
       "        vertical-align: top;\n",
       "    }\n",
       "\n",
       "    .dataframe thead th {\n",
       "        text-align: right;\n",
       "    }\n",
       "</style>\n",
       "<table border=\"1\" class=\"dataframe\">\n",
       "  <thead>\n",
       "    <tr style=\"text-align: right;\">\n",
       "      <th></th>\n",
       "      <th>step</th>\n",
       "      <th>customer</th>\n",
       "      <th>age</th>\n",
       "      <th>gender</th>\n",
       "      <th>zipcodeOri</th>\n",
       "      <th>merchant</th>\n",
       "      <th>zipMerchant</th>\n",
       "      <th>category</th>\n",
       "      <th>amount</th>\n",
       "      <th>fraud</th>\n",
       "    </tr>\n",
       "  </thead>\n",
       "  <tbody>\n",
       "    <tr>\n",
       "      <td>0</td>\n",
       "      <td>0</td>\n",
       "      <td>C1093826151</td>\n",
       "      <td>4</td>\n",
       "      <td>0</td>\n",
       "      <td>28007</td>\n",
       "      <td>M348934600</td>\n",
       "      <td>28007</td>\n",
       "      <td>0</td>\n",
       "      <td>4.55</td>\n",
       "      <td>0</td>\n",
       "    </tr>\n",
       "    <tr>\n",
       "      <td>1</td>\n",
       "      <td>0</td>\n",
       "      <td>C352968107</td>\n",
       "      <td>2</td>\n",
       "      <td>0</td>\n",
       "      <td>28007</td>\n",
       "      <td>M348934600</td>\n",
       "      <td>28007</td>\n",
       "      <td>0</td>\n",
       "      <td>39.68</td>\n",
       "      <td>0</td>\n",
       "    </tr>\n",
       "    <tr>\n",
       "      <td>2</td>\n",
       "      <td>0</td>\n",
       "      <td>C2054744914</td>\n",
       "      <td>4</td>\n",
       "      <td>1</td>\n",
       "      <td>28007</td>\n",
       "      <td>M1823072687</td>\n",
       "      <td>28007</td>\n",
       "      <td>0</td>\n",
       "      <td>26.89</td>\n",
       "      <td>0</td>\n",
       "    </tr>\n",
       "    <tr>\n",
       "      <td>3</td>\n",
       "      <td>0</td>\n",
       "      <td>C1760612790</td>\n",
       "      <td>3</td>\n",
       "      <td>0</td>\n",
       "      <td>28007</td>\n",
       "      <td>M348934600</td>\n",
       "      <td>28007</td>\n",
       "      <td>0</td>\n",
       "      <td>17.25</td>\n",
       "      <td>0</td>\n",
       "    </tr>\n",
       "    <tr>\n",
       "      <td>4</td>\n",
       "      <td>0</td>\n",
       "      <td>C757503768</td>\n",
       "      <td>5</td>\n",
       "      <td>0</td>\n",
       "      <td>28007</td>\n",
       "      <td>M348934600</td>\n",
       "      <td>28007</td>\n",
       "      <td>0</td>\n",
       "      <td>35.72</td>\n",
       "      <td>0</td>\n",
       "    </tr>\n",
       "  </tbody>\n",
       "</table>\n",
       "</div>"
      ],
      "text/plain": [
       "   step     customer age  gender  zipcodeOri     merchant  zipMerchant  \\\n",
       "0     0  C1093826151   4       0       28007   M348934600        28007   \n",
       "1     0   C352968107   2       0       28007   M348934600        28007   \n",
       "2     0  C2054744914   4       1       28007  M1823072687        28007   \n",
       "3     0  C1760612790   3       0       28007   M348934600        28007   \n",
       "4     0   C757503768   5       0       28007   M348934600        28007   \n",
       "\n",
       "   category  amount  fraud  \n",
       "0         0    4.55      0  \n",
       "1         0   39.68      0  \n",
       "2         0   26.89      0  \n",
       "3         0   17.25      0  \n",
       "4         0   35.72      0  "
      ]
     },
     "execution_count": 8,
     "metadata": {},
     "output_type": "execute_result"
    }
   ],
   "source": [
    "clean_transaction.head()"
   ]
  },
  {
   "cell_type": "markdown",
   "metadata": {},
   "source": [
    "Categories have now been encoded to numbers for easier manipulation. The following dictionary explains what each value means:"
   ]
  },
  {
   "cell_type": "code",
   "execution_count": 9,
   "metadata": {
    "scrolled": true
   },
   "outputs": [
    {
     "data": {
      "text/plain": [
       "{'es_transportation': 0,\n",
       " 'es_health': 1,\n",
       " 'es_otherservices': 2,\n",
       " 'es_food': 3,\n",
       " 'es_hotelservices': 4,\n",
       " 'es_barsandrestaurants': 5,\n",
       " 'es_tech': 6,\n",
       " 'es_sportsandtoys': 7,\n",
       " 'es_wellnessandbeauty': 8,\n",
       " 'es_hyper': 9,\n",
       " 'es_fashion': 10,\n",
       " 'es_home': 11,\n",
       " 'es_contents': 12,\n",
       " 'es_travel': 13,\n",
       " 'es_leisure': 14}"
      ]
     },
     "execution_count": 9,
     "metadata": {},
     "output_type": "execute_result"
    }
   ],
   "source": [
    "category_dictionary"
   ]
  },
  {
   "cell_type": "code",
   "execution_count": 10,
   "metadata": {},
   "outputs": [
    {
     "data": {
      "text/plain": [
       "count    594643.0\n",
       "mean      28007.0\n",
       "std           0.0\n",
       "min       28007.0\n",
       "25%       28007.0\n",
       "50%       28007.0\n",
       "75%       28007.0\n",
       "max       28007.0\n",
       "Name: zipcodeOri, dtype: float64"
      ]
     },
     "execution_count": 10,
     "metadata": {},
     "output_type": "execute_result"
    }
   ],
   "source": [
    "clean_transaction['zipcodeOri'].describe()"
   ]
  },
  {
   "cell_type": "code",
   "execution_count": 11,
   "metadata": {},
   "outputs": [
    {
     "data": {
      "text/plain": [
       "count    594643.0\n",
       "mean      28007.0\n",
       "std           0.0\n",
       "min       28007.0\n",
       "25%       28007.0\n",
       "50%       28007.0\n",
       "75%       28007.0\n",
       "max       28007.0\n",
       "Name: zipMerchant, dtype: float64"
      ]
     },
     "execution_count": 11,
     "metadata": {},
     "output_type": "execute_result"
    }
   ],
   "source": [
    "clean_transaction['zipMerchant'].describe()"
   ]
  },
  {
   "cell_type": "markdown",
   "metadata": {},
   "source": [
    "There are 10 columns in the dataset, but the two columns that specify zipcode only\n",
    "contain one value and should be dropped."
   ]
  },
  {
   "cell_type": "code",
   "execution_count": 58,
   "metadata": {},
   "outputs": [],
   "source": [
    "clean_transaction = clean_transaction.drop(['zipcodeOri', 'zipMerchant'], axis=1)"
   ]
  },
  {
   "cell_type": "markdown",
   "metadata": {},
   "source": [
    "There are 8 columns remaining. Step appears to be represent the time a transaction occurred since the first transaction was made. According to the paper published on researchgate.net, the Age column refers to a categorized age:\n",
    "\n",
    "**0 --> <=18**\n",
    "\n",
    "**1 --> 19-25**\n",
    "\n",
    "**2 --> 26-35**\n",
    "\n",
    "**3 --> 36-45**\n",
    "\n",
    "**4 --> 46-55**\n",
    "\n",
    "**5 --> 56-65**\n",
    "\n",
    "**6 --> >65**\n",
    "\n",
    "**U --> Unknown**\n",
    "\n",
    "The Customer column is a unique ID assigned to each customer. There are customers in the dataset who have made multiple purchases, so this column may be useful to us. Gender represents the gender of a customer: \n",
    "\n",
    "**'M' -> Male**\n",
    "\n",
    "**'F' -> Female**\n",
    "\n",
    "**'E' -> Enterprise**\n",
    "\n",
    "**'U' -> Unknown**\n",
    "\n",
    "The Merchant column refers to a unique ID assigned to each merchant. There are merchants who have facilitated more than one transaction in the dataset, so this column may be useful to us.\n",
    "\n",
    "Category and amount columns are self-evident, category represents the consumer category to which the purchased item belongs to, and amount refers to the numeric value of the purchase (likely in euros). \n",
    "\n",
    "The fraud column is categorized as follows: 0 is indicative of no fraud, 1 means the transaction was a fraud.\n",
    "\n",
    "Additionally, there are no null values in the dataset, so no values seem to be missing. This makes sense as the dataset we are dealing with is simulated."
   ]
  },
  {
   "cell_type": "markdown",
   "metadata": {},
   "source": [
    "### Understanding the Data"
   ]
  },
  {
   "cell_type": "code",
   "execution_count": 61,
   "metadata": {},
   "outputs": [
    {
     "data": {
      "text/html": [
       "<style  type=\"text/css\" >\n",
       "    #T_4b5c5f0a_08d2_11ea_8ce2_6030d460e270row0_col0 {\n",
       "            background-color:  #b40426;\n",
       "            color:  #f1f1f1;\n",
       "        }    #T_4b5c5f0a_08d2_11ea_8ce2_6030d460e270row0_col1 {\n",
       "            background-color:  #3b4cc0;\n",
       "            color:  #f1f1f1;\n",
       "        }    #T_4b5c5f0a_08d2_11ea_8ce2_6030d460e270row0_col2 {\n",
       "            background-color:  #3b4cc0;\n",
       "            color:  #f1f1f1;\n",
       "        }    #T_4b5c5f0a_08d2_11ea_8ce2_6030d460e270row0_col3 {\n",
       "            background-color:  #3b4cc0;\n",
       "            color:  #f1f1f1;\n",
       "        }    #T_4b5c5f0a_08d2_11ea_8ce2_6030d460e270row0_col4 {\n",
       "            background-color:  #3b4cc0;\n",
       "            color:  #f1f1f1;\n",
       "        }    #T_4b5c5f0a_08d2_11ea_8ce2_6030d460e270row1_col0 {\n",
       "            background-color:  #4257c9;\n",
       "            color:  #f1f1f1;\n",
       "        }    #T_4b5c5f0a_08d2_11ea_8ce2_6030d460e270row1_col1 {\n",
       "            background-color:  #b40426;\n",
       "            color:  #f1f1f1;\n",
       "        }    #T_4b5c5f0a_08d2_11ea_8ce2_6030d460e270row1_col2 {\n",
       "            background-color:  #445acc;\n",
       "            color:  #f1f1f1;\n",
       "        }    #T_4b5c5f0a_08d2_11ea_8ce2_6030d460e270row1_col3 {\n",
       "            background-color:  #4055c8;\n",
       "            color:  #f1f1f1;\n",
       "        }    #T_4b5c5f0a_08d2_11ea_8ce2_6030d460e270row1_col4 {\n",
       "            background-color:  #455cce;\n",
       "            color:  #f1f1f1;\n",
       "        }    #T_4b5c5f0a_08d2_11ea_8ce2_6030d460e270row2_col0 {\n",
       "            background-color:  #3b4cc0;\n",
       "            color:  #f1f1f1;\n",
       "        }    #T_4b5c5f0a_08d2_11ea_8ce2_6030d460e270row2_col1 {\n",
       "            background-color:  #3d50c3;\n",
       "            color:  #f1f1f1;\n",
       "        }    #T_4b5c5f0a_08d2_11ea_8ce2_6030d460e270row2_col2 {\n",
       "            background-color:  #b40426;\n",
       "            color:  #f1f1f1;\n",
       "        }    #T_4b5c5f0a_08d2_11ea_8ce2_6030d460e270row2_col3 {\n",
       "            background-color:  #96b7ff;\n",
       "            color:  #000000;\n",
       "        }    #T_4b5c5f0a_08d2_11ea_8ce2_6030d460e270row2_col4 {\n",
       "            background-color:  #9abbff;\n",
       "            color:  #000000;\n",
       "        }    #T_4b5c5f0a_08d2_11ea_8ce2_6030d460e270row3_col0 {\n",
       "            background-color:  #3f53c6;\n",
       "            color:  #f1f1f1;\n",
       "        }    #T_4b5c5f0a_08d2_11ea_8ce2_6030d460e270row3_col1 {\n",
       "            background-color:  #3e51c5;\n",
       "            color:  #f1f1f1;\n",
       "        }    #T_4b5c5f0a_08d2_11ea_8ce2_6030d460e270row3_col2 {\n",
       "            background-color:  #9abbff;\n",
       "            color:  #000000;\n",
       "        }    #T_4b5c5f0a_08d2_11ea_8ce2_6030d460e270row3_col3 {\n",
       "            background-color:  #b40426;\n",
       "            color:  #f1f1f1;\n",
       "        }    #T_4b5c5f0a_08d2_11ea_8ce2_6030d460e270row3_col4 {\n",
       "            background-color:  #dbdcde;\n",
       "            color:  #000000;\n",
       "        }    #T_4b5c5f0a_08d2_11ea_8ce2_6030d460e270row4_col0 {\n",
       "            background-color:  #3e51c5;\n",
       "            color:  #f1f1f1;\n",
       "        }    #T_4b5c5f0a_08d2_11ea_8ce2_6030d460e270row4_col1 {\n",
       "            background-color:  #4257c9;\n",
       "            color:  #f1f1f1;\n",
       "        }    #T_4b5c5f0a_08d2_11ea_8ce2_6030d460e270row4_col2 {\n",
       "            background-color:  #9dbdff;\n",
       "            color:  #000000;\n",
       "        }    #T_4b5c5f0a_08d2_11ea_8ce2_6030d460e270row4_col3 {\n",
       "            background-color:  #dbdcde;\n",
       "            color:  #000000;\n",
       "        }    #T_4b5c5f0a_08d2_11ea_8ce2_6030d460e270row4_col4 {\n",
       "            background-color:  #b40426;\n",
       "            color:  #f1f1f1;\n",
       "        }</style><table id=\"T_4b5c5f0a_08d2_11ea_8ce2_6030d460e270\" ><thead>    <tr>        <th class=\"blank level0\" ></th>        <th class=\"col_heading level0 col0\" >step</th>        <th class=\"col_heading level0 col1\" >gender</th>        <th class=\"col_heading level0 col2\" >category</th>        <th class=\"col_heading level0 col3\" >amount</th>        <th class=\"col_heading level0 col4\" >fraud</th>    </tr></thead><tbody>\n",
       "                <tr>\n",
       "                        <th id=\"T_4b5c5f0a_08d2_11ea_8ce2_6030d460e270level0_row0\" class=\"row_heading level0 row0\" >step</th>\n",
       "                        <td id=\"T_4b5c5f0a_08d2_11ea_8ce2_6030d460e270row0_col0\" class=\"data row0 col0\" >1</td>\n",
       "                        <td id=\"T_4b5c5f0a_08d2_11ea_8ce2_6030d460e270row0_col1\" class=\"data row0 col1\" >0.00110703</td>\n",
       "                        <td id=\"T_4b5c5f0a_08d2_11ea_8ce2_6030d460e270row0_col2\" class=\"data row0 col2\" >-0.0245922</td>\n",
       "                        <td id=\"T_4b5c5f0a_08d2_11ea_8ce2_6030d460e270row0_col3\" class=\"data row0 col3\" >-0.00796142</td>\n",
       "                        <td id=\"T_4b5c5f0a_08d2_11ea_8ce2_6030d460e270row0_col4\" class=\"data row0 col4\" >-0.0118981</td>\n",
       "            </tr>\n",
       "            <tr>\n",
       "                        <th id=\"T_4b5c5f0a_08d2_11ea_8ce2_6030d460e270level0_row1\" class=\"row_heading level0 row1\" >gender</th>\n",
       "                        <td id=\"T_4b5c5f0a_08d2_11ea_8ce2_6030d460e270row1_col0\" class=\"data row1 col0\" >0.00110703</td>\n",
       "                        <td id=\"T_4b5c5f0a_08d2_11ea_8ce2_6030d460e270row1_col1\" class=\"data row1 col1\" >1</td>\n",
       "                        <td id=\"T_4b5c5f0a_08d2_11ea_8ce2_6030d460e270row1_col2\" class=\"data row1 col2\" >0.010147</td>\n",
       "                        <td id=\"T_4b5c5f0a_08d2_11ea_8ce2_6030d460e270row1_col3\" class=\"data row1 col3\" >0.0128877</td>\n",
       "                        <td id=\"T_4b5c5f0a_08d2_11ea_8ce2_6030d460e270row1_col4\" class=\"data row1 col4\" >0.0250473</td>\n",
       "            </tr>\n",
       "            <tr>\n",
       "                        <th id=\"T_4b5c5f0a_08d2_11ea_8ce2_6030d460e270level0_row2\" class=\"row_heading level0 row2\" >category</th>\n",
       "                        <td id=\"T_4b5c5f0a_08d2_11ea_8ce2_6030d460e270row2_col0\" class=\"data row2 col0\" >-0.0245922</td>\n",
       "                        <td id=\"T_4b5c5f0a_08d2_11ea_8ce2_6030d460e270row2_col1\" class=\"data row2 col1\" >0.010147</td>\n",
       "                        <td id=\"T_4b5c5f0a_08d2_11ea_8ce2_6030d460e270row2_col2\" class=\"data row2 col2\" >1</td>\n",
       "                        <td id=\"T_4b5c5f0a_08d2_11ea_8ce2_6030d460e270row2_col3\" class=\"data row2 col3\" >0.268715</td>\n",
       "                        <td id=\"T_4b5c5f0a_08d2_11ea_8ce2_6030d460e270row2_col4\" class=\"data row2 col4\" >0.278354</td>\n",
       "            </tr>\n",
       "            <tr>\n",
       "                        <th id=\"T_4b5c5f0a_08d2_11ea_8ce2_6030d460e270level0_row3\" class=\"row_heading level0 row3\" >amount</th>\n",
       "                        <td id=\"T_4b5c5f0a_08d2_11ea_8ce2_6030d460e270row3_col0\" class=\"data row3 col0\" >-0.00796142</td>\n",
       "                        <td id=\"T_4b5c5f0a_08d2_11ea_8ce2_6030d460e270row3_col1\" class=\"data row3 col1\" >0.0128877</td>\n",
       "                        <td id=\"T_4b5c5f0a_08d2_11ea_8ce2_6030d460e270row3_col2\" class=\"data row3 col2\" >0.268715</td>\n",
       "                        <td id=\"T_4b5c5f0a_08d2_11ea_8ce2_6030d460e270row3_col3\" class=\"data row3 col3\" >1</td>\n",
       "                        <td id=\"T_4b5c5f0a_08d2_11ea_8ce2_6030d460e270row3_col4\" class=\"data row3 col4\" >0.489967</td>\n",
       "            </tr>\n",
       "            <tr>\n",
       "                        <th id=\"T_4b5c5f0a_08d2_11ea_8ce2_6030d460e270level0_row4\" class=\"row_heading level0 row4\" >fraud</th>\n",
       "                        <td id=\"T_4b5c5f0a_08d2_11ea_8ce2_6030d460e270row4_col0\" class=\"data row4 col0\" >-0.0118981</td>\n",
       "                        <td id=\"T_4b5c5f0a_08d2_11ea_8ce2_6030d460e270row4_col1\" class=\"data row4 col1\" >0.0250473</td>\n",
       "                        <td id=\"T_4b5c5f0a_08d2_11ea_8ce2_6030d460e270row4_col2\" class=\"data row4 col2\" >0.278354</td>\n",
       "                        <td id=\"T_4b5c5f0a_08d2_11ea_8ce2_6030d460e270row4_col3\" class=\"data row4 col3\" >0.489967</td>\n",
       "                        <td id=\"T_4b5c5f0a_08d2_11ea_8ce2_6030d460e270row4_col4\" class=\"data row4 col4\" >1</td>\n",
       "            </tr>\n",
       "    </tbody></table>"
      ],
      "text/plain": [
       "<pandas.io.formats.style.Styler at 0x13fbae048>"
      ]
     },
     "execution_count": 61,
     "metadata": {},
     "output_type": "execute_result"
    }
   ],
   "source": [
    "corr_matrix = clean_transaction.corr()\n",
    "corr_matrix.style.background_gradient(cmap='coolwarm')"
   ]
  },
  {
   "cell_type": "markdown",
   "metadata": {},
   "source": [
    "Basically no correlation with anything BESIDES the amount. Amount is crucial"
   ]
  },
  {
   "cell_type": "markdown",
   "metadata": {},
   "source": [
    "### Manipulating the Data (text and code)"
   ]
  },
  {
   "cell_type": "code",
   "execution_count": 73,
   "metadata": {},
   "outputs": [],
   "source": [
    "# a method to get the reliability of a specific category in the given data\n",
    "def get_fraud_scores(category): \n",
    "    fraud_scores = { i : 0 for i in clean_transaction[category].unique() }\n",
    "    fraud_dict = clean_fraud[category].value_counts().to_dict()\n",
    "    total_dict = clean_transaction[category].value_counts().to_dict()\n",
    "    final_fraud = dict((v,k) for k,v in fraud_dict.items()) # Final dictionary with ID as key, reliability as value\n",
    "\n",
    "    for key in fraud_scores: \n",
    "        if key in fraud_dict:\n",
    "            fraud_scores[key] = fraud_dict[key]/total_dict[key] # reliability = fraudulent purchases / total purchases\n",
    "    return fraud_scores"
   ]
  },
  {
   "cell_type": "code",
   "execution_count": 75,
   "metadata": {},
   "outputs": [
    {
     "data": {
      "text/html": [
       "<div>\n",
       "<style scoped>\n",
       "    .dataframe tbody tr th:only-of-type {\n",
       "        vertical-align: middle;\n",
       "    }\n",
       "\n",
       "    .dataframe tbody tr th {\n",
       "        vertical-align: top;\n",
       "    }\n",
       "\n",
       "    .dataframe thead th {\n",
       "        text-align: right;\n",
       "    }\n",
       "</style>\n",
       "<table border=\"1\" class=\"dataframe\">\n",
       "  <thead>\n",
       "    <tr style=\"text-align: right;\">\n",
       "      <th></th>\n",
       "      <th>step</th>\n",
       "      <th>customer</th>\n",
       "      <th>age</th>\n",
       "      <th>gender</th>\n",
       "      <th>merchant</th>\n",
       "      <th>category</th>\n",
       "      <th>amount</th>\n",
       "      <th>fraud</th>\n",
       "      <th>customer_reliability</th>\n",
       "      <th>merchant_reliability</th>\n",
       "    </tr>\n",
       "  </thead>\n",
       "  <tbody>\n",
       "    <tr>\n",
       "      <th>88</th>\n",
       "      <td>0</td>\n",
       "      <td>C583110837</td>\n",
       "      <td>3</td>\n",
       "      <td>0</td>\n",
       "      <td>M480139044</td>\n",
       "      <td>1</td>\n",
       "      <td>44.26</td>\n",
       "      <td>1</td>\n",
       "      <td>0.092857</td>\n",
       "      <td>0.465792</td>\n",
       "    </tr>\n",
       "    <tr>\n",
       "      <th>89</th>\n",
       "      <td>0</td>\n",
       "      <td>C1332295774</td>\n",
       "      <td>3</td>\n",
       "      <td>0</td>\n",
       "      <td>M480139044</td>\n",
       "      <td>1</td>\n",
       "      <td>324.50</td>\n",
       "      <td>1</td>\n",
       "      <td>0.264151</td>\n",
       "      <td>0.465792</td>\n",
       "    </tr>\n",
       "    <tr>\n",
       "      <th>434</th>\n",
       "      <td>0</td>\n",
       "      <td>C1160421902</td>\n",
       "      <td>3</td>\n",
       "      <td>0</td>\n",
       "      <td>M857378720</td>\n",
       "      <td>4</td>\n",
       "      <td>176.32</td>\n",
       "      <td>1</td>\n",
       "      <td>0.033058</td>\n",
       "      <td>0.754098</td>\n",
       "    </tr>\n",
       "    <tr>\n",
       "      <th>435</th>\n",
       "      <td>0</td>\n",
       "      <td>C966214713</td>\n",
       "      <td>3</td>\n",
       "      <td>0</td>\n",
       "      <td>M857378720</td>\n",
       "      <td>4</td>\n",
       "      <td>337.41</td>\n",
       "      <td>1</td>\n",
       "      <td>0.040000</td>\n",
       "      <td>0.754098</td>\n",
       "    </tr>\n",
       "    <tr>\n",
       "      <th>553</th>\n",
       "      <td>0</td>\n",
       "      <td>C1450140987</td>\n",
       "      <td>4</td>\n",
       "      <td>1</td>\n",
       "      <td>M1198415165</td>\n",
       "      <td>8</td>\n",
       "      <td>220.11</td>\n",
       "      <td>1</td>\n",
       "      <td>0.120805</td>\n",
       "      <td>0.226582</td>\n",
       "    </tr>\n",
       "  </tbody>\n",
       "</table>\n",
       "</div>"
      ],
      "text/plain": [
       "     step     customer age  gender     merchant  category  amount  fraud  \\\n",
       "88      0   C583110837   3       0   M480139044         1   44.26      1   \n",
       "89      0  C1332295774   3       0   M480139044         1  324.50      1   \n",
       "434     0  C1160421902   3       0   M857378720         4  176.32      1   \n",
       "435     0   C966214713   3       0   M857378720         4  337.41      1   \n",
       "553     0  C1450140987   4       1  M1198415165         8  220.11      1   \n",
       "\n",
       "     customer_reliability  merchant_reliability  \n",
       "88               0.092857              0.465792  \n",
       "89               0.264151              0.465792  \n",
       "434              0.033058              0.754098  \n",
       "435              0.040000              0.754098  \n",
       "553              0.120805              0.226582  "
      ]
     },
     "execution_count": 75,
     "metadata": {},
     "output_type": "execute_result"
    }
   ],
   "source": [
    "# DataFrame containing only fraudulent transactions\n",
    "clean_fraud = clean_transaction[clean_transaction['fraud'] ==1] \n",
    "clean_fraud.head()"
   ]
  },
  {
   "cell_type": "markdown",
   "metadata": {},
   "source": [
    "#### Attempting to assign each customer and merchant a fraud score"
   ]
  },
  {
   "cell_type": "code",
   "execution_count": 76,
   "metadata": {},
   "outputs": [],
   "source": [
    "customer_fraud_dict = get_fraud_scores('customer') #dictionary with customer ID as key, customer reliability as value\n",
    "merchant_fraud_dict = get_fraud_scores('merchant') #dictionary with merchant ID as key, merchant reliability as value"
   ]
  },
  {
   "cell_type": "markdown",
   "metadata": {},
   "source": [
    "Now that we finally have a fraud percentage for each customer, we must insert our new datapoint into our dataset so we can use it for future analysis. "
   ]
  },
  {
   "cell_type": "code",
   "execution_count": 77,
   "metadata": {},
   "outputs": [],
   "source": [
    "def return_cust_fraud_percentage(x): # method to navigate customer_fraud dictionary\n",
    "    return customer_fraud_dict[x]\n",
    "\n",
    "def return_merch_fraud_percentage(x): # methdo to navigate merchant_fraud dictionary\n",
    "    return merchant_fraud_dict[x]\n",
    "\n",
    "clean_transaction['customer_reliability'] = clean_transaction['customer'].apply(return_cust_fraud_percentage)\n",
    "clean_transaction['merchant_reliability'] = clean_transaction['merchant'].apply(return_merch_fraud_percentage)\n",
    "\n",
    "clean_fraud = clean_transaction[clean_transaction['fraud'] ==1]  # redefine df_frauds with new categories"
   ]
  },
  {
   "cell_type": "code",
   "execution_count": 78,
   "metadata": {},
   "outputs": [
    {
     "data": {
      "text/plain": [
       "count    594643.000000\n",
       "mean          0.012108\n",
       "std           0.055508\n",
       "min           0.000000\n",
       "25%           0.000000\n",
       "50%           0.000000\n",
       "75%           0.006135\n",
       "max           0.945652\n",
       "Name: customer_reliability, dtype: float64"
      ]
     },
     "execution_count": 78,
     "metadata": {},
     "output_type": "execute_result"
    }
   ],
   "source": [
    "clean_transaction['customer_reliability'].describe()"
   ]
  },
  {
   "cell_type": "code",
   "execution_count": 79,
   "metadata": {},
   "outputs": [
    {
     "data": {
      "text/plain": [
       "count    7200.000000\n",
       "mean        0.266578\n",
       "std         0.297518\n",
       "min         0.005348\n",
       "25%         0.031746\n",
       "50%         0.092349\n",
       "75%         0.477273\n",
       "max         0.945652\n",
       "Name: customer_reliability, dtype: float64"
      ]
     },
     "execution_count": 79,
     "metadata": {},
     "output_type": "execute_result"
    }
   ],
   "source": [
    "clean_fraud['customer_reliability'].describe()"
   ]
  },
  {
   "cell_type": "markdown",
   "metadata": {},
   "source": [
    "There is a significant difference in the average customer reliability in fraudulent transactions, suggesting some customers are simply more likely to commit fraud than others."
   ]
  },
  {
   "cell_type": "code",
   "execution_count": 80,
   "metadata": {},
   "outputs": [
    {
     "data": {
      "text/plain": [
       "count    594643.000000\n",
       "mean          0.012108\n",
       "std           0.080055\n",
       "min           0.000000\n",
       "25%           0.000000\n",
       "50%           0.000000\n",
       "75%           0.000000\n",
       "max           0.963351\n",
       "Name: merchant_reliability, dtype: float64"
      ]
     },
     "execution_count": 80,
     "metadata": {},
     "output_type": "execute_result"
    }
   ],
   "source": [
    "clean_transaction['merchant_reliability'].describe()"
   ]
  },
  {
   "cell_type": "code",
   "execution_count": 81,
   "metadata": {},
   "outputs": [
    {
     "data": {
      "text/plain": [
       "count    7200.000000\n",
       "mean        0.541401\n",
       "std         0.298606\n",
       "min         0.017778\n",
       "25%         0.250000\n",
       "50%         0.465792\n",
       "75%         0.832109\n",
       "max         0.963351\n",
       "Name: merchant_reliability, dtype: float64"
      ]
     },
     "execution_count": 81,
     "metadata": {},
     "output_type": "execute_result"
    }
   ],
   "source": [
    "clean_fraud['merchant_reliability'].describe()"
   ]
  },
  {
   "cell_type": "code",
   "execution_count": 82,
   "metadata": {},
   "outputs": [
    {
     "data": {
      "text/html": [
       "<div>\n",
       "<style scoped>\n",
       "    .dataframe tbody tr th:only-of-type {\n",
       "        vertical-align: middle;\n",
       "    }\n",
       "\n",
       "    .dataframe tbody tr th {\n",
       "        vertical-align: top;\n",
       "    }\n",
       "\n",
       "    .dataframe thead th {\n",
       "        text-align: right;\n",
       "    }\n",
       "</style>\n",
       "<table border=\"1\" class=\"dataframe\">\n",
       "  <thead>\n",
       "    <tr style=\"text-align: right;\">\n",
       "      <th></th>\n",
       "      <th>step</th>\n",
       "      <th>customer</th>\n",
       "      <th>age</th>\n",
       "      <th>gender</th>\n",
       "      <th>merchant</th>\n",
       "      <th>category</th>\n",
       "      <th>amount</th>\n",
       "      <th>fraud</th>\n",
       "      <th>customer_reliability</th>\n",
       "      <th>merchant_reliability</th>\n",
       "    </tr>\n",
       "  </thead>\n",
       "  <tbody>\n",
       "    <tr>\n",
       "      <th>0</th>\n",
       "      <td>0</td>\n",
       "      <td>C1093826151</td>\n",
       "      <td>4</td>\n",
       "      <td>0</td>\n",
       "      <td>M348934600</td>\n",
       "      <td>0</td>\n",
       "      <td>4.55</td>\n",
       "      <td>0</td>\n",
       "      <td>0.0</td>\n",
       "      <td>0.0</td>\n",
       "    </tr>\n",
       "    <tr>\n",
       "      <th>1</th>\n",
       "      <td>0</td>\n",
       "      <td>C352968107</td>\n",
       "      <td>2</td>\n",
       "      <td>0</td>\n",
       "      <td>M348934600</td>\n",
       "      <td>0</td>\n",
       "      <td>39.68</td>\n",
       "      <td>0</td>\n",
       "      <td>0.0</td>\n",
       "      <td>0.0</td>\n",
       "    </tr>\n",
       "    <tr>\n",
       "      <th>2</th>\n",
       "      <td>0</td>\n",
       "      <td>C2054744914</td>\n",
       "      <td>4</td>\n",
       "      <td>1</td>\n",
       "      <td>M1823072687</td>\n",
       "      <td>0</td>\n",
       "      <td>26.89</td>\n",
       "      <td>0</td>\n",
       "      <td>0.0</td>\n",
       "      <td>0.0</td>\n",
       "    </tr>\n",
       "    <tr>\n",
       "      <th>3</th>\n",
       "      <td>0</td>\n",
       "      <td>C1760612790</td>\n",
       "      <td>3</td>\n",
       "      <td>0</td>\n",
       "      <td>M348934600</td>\n",
       "      <td>0</td>\n",
       "      <td>17.25</td>\n",
       "      <td>0</td>\n",
       "      <td>0.0</td>\n",
       "      <td>0.0</td>\n",
       "    </tr>\n",
       "    <tr>\n",
       "      <th>4</th>\n",
       "      <td>0</td>\n",
       "      <td>C757503768</td>\n",
       "      <td>5</td>\n",
       "      <td>0</td>\n",
       "      <td>M348934600</td>\n",
       "      <td>0</td>\n",
       "      <td>35.72</td>\n",
       "      <td>0</td>\n",
       "      <td>0.0</td>\n",
       "      <td>0.0</td>\n",
       "    </tr>\n",
       "  </tbody>\n",
       "</table>\n",
       "</div>"
      ],
      "text/plain": [
       "   step     customer age  gender     merchant  category  amount  fraud  \\\n",
       "0     0  C1093826151   4       0   M348934600         0    4.55      0   \n",
       "1     0   C352968107   2       0   M348934600         0   39.68      0   \n",
       "2     0  C2054744914   4       1  M1823072687         0   26.89      0   \n",
       "3     0  C1760612790   3       0   M348934600         0   17.25      0   \n",
       "4     0   C757503768   5       0   M348934600         0   35.72      0   \n",
       "\n",
       "   customer_reliability  merchant_reliability  \n",
       "0                   0.0                   0.0  \n",
       "1                   0.0                   0.0  \n",
       "2                   0.0                   0.0  \n",
       "3                   0.0                   0.0  \n",
       "4                   0.0                   0.0  "
      ]
     },
     "execution_count": 82,
     "metadata": {},
     "output_type": "execute_result"
    }
   ],
   "source": [
    "clean_transaction.head()"
   ]
  },
  {
   "cell_type": "markdown",
   "metadata": {},
   "source": [
    "There is also a significant difference in the average merchant reliability in a fraudulent transaction. This suggests some merchants are easier to take advantage of (possibly due to poor security practices), and thus are involved in more fraudulent transactions."
   ]
  },
  {
   "cell_type": "markdown",
   "metadata": {},
   "source": [
    "### Visualizing the Data"
   ]
  },
  {
   "cell_type": "markdown",
   "metadata": {},
   "source": []
  },
  {
   "cell_type": "markdown",
   "metadata": {},
   "source": [
    "# APPLYING MACHINE LEARNING (text and code) "
   ]
  },
  {
   "cell_type": "code",
   "execution_count": 17,
   "metadata": {},
   "outputs": [
    {
     "ename": "NameError",
     "evalue": "name 'linear_model' is not defined",
     "output_type": "error",
     "traceback": [
      "\u001b[0;31m---------------------------------------------------------------------------\u001b[0m",
      "\u001b[0;31mNameError\u001b[0m                                 Traceback (most recent call last)",
      "\u001b[0;32m<ipython-input-17-2b3a9ace4c1f>\u001b[0m in \u001b[0;36m<module>\u001b[0;34m\u001b[0m\n\u001b[0;32m----> 1\u001b[0;31m \u001b[0mmodel\u001b[0m \u001b[0;34m=\u001b[0m \u001b[0mlinear_model\u001b[0m\u001b[0;34m\u001b[0m\u001b[0;34m\u001b[0m\u001b[0m\n\u001b[0m\u001b[1;32m      2\u001b[0m \u001b[0mmodel\u001b[0m\u001b[0;34m.\u001b[0m\u001b[0mfit\u001b[0m\u001b[0;34m(\u001b[0m\u001b[0;34m[\u001b[0m\u001b[0mTrainX\u001b[0m\u001b[0;34m,\u001b[0m \u001b[0mTrainY\u001b[0m\u001b[0;34m]\u001b[0m\u001b[0;34m)\u001b[0m\u001b[0;34m\u001b[0m\u001b[0;34m\u001b[0m\u001b[0m\n\u001b[1;32m      3\u001b[0m \u001b[0mpredictions\u001b[0m \u001b[0;34m=\u001b[0m \u001b[0mmodel\u001b[0m\u001b[0;34m.\u001b[0m\u001b[0mpredict\u001b[0m\u001b[0;34m(\u001b[0m\u001b[0mValidate_or_test_X\u001b[0m\u001b[0;34m)\u001b[0m\u001b[0;34m\u001b[0m\u001b[0;34m\u001b[0m\u001b[0m\n",
      "\u001b[0;31mNameError\u001b[0m: name 'linear_model' is not defined"
     ]
    }
   ],
   "source": [
    "model = linear_model \n",
    "model.fit([TrainX, TrainY])\n",
    "predictions = model.predict(Validate_or_test_X)"
   ]
  },
  {
   "cell_type": "code",
   "execution_count": null,
   "metadata": {},
   "outputs": [],
   "source": []
  }
 ],
 "metadata": {
  "kernelspec": {
   "display_name": "Python 3",
   "language": "python",
   "name": "python3"
  },
  "language_info": {
   "codemirror_mode": {
    "name": "ipython",
    "version": 3
   },
   "file_extension": ".py",
   "mimetype": "text/x-python",
   "name": "python",
   "nbconvert_exporter": "python",
   "pygments_lexer": "ipython3",
   "version": "3.6.8"
  }
 },
 "nbformat": 4,
 "nbformat_minor": 2
}
